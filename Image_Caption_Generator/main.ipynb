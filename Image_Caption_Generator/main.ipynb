{
 "cells": [
  {
   "cell_type": "code",
   "execution_count": 1,
   "metadata": {},
   "outputs": [
    {
     "name": "stderr",
     "output_type": "stream",
     "text": [
      "2022-08-02 00:14:10.544672: W tensorflow/stream_executor/platform/default/dso_loader.cc:64] Could not load dynamic library 'libcudart.so.11.0'; dlerror: libcudart.so.11.0: cannot open shared object file: No such file or directory\n",
      "2022-08-02 00:14:10.544727: I tensorflow/stream_executor/cuda/cudart_stub.cc:29] Ignore above cudart dlerror if you do not have a GPU set up on your machine.\n"
     ]
    }
   ],
   "source": [
    "from matplotlib import pyplot\n",
    "from keras.datasets import cifar10\n",
    "from keras.models import Sequential\n",
    "from keras.layers import Conv2D\n",
    "from keras.layers import MaxPooling2D\n",
    "from keras.layers import Dense\n",
    "from keras.layers import Flatten\n",
    "import os\n",
    "import numpy as np"
   ]
  },
  {
   "cell_type": "code",
   "execution_count": 2,
   "metadata": {},
   "outputs": [],
   "source": [
    "IMAGES_PATH = \"flickr30k_images/flickr30k_images/\"\n",
    "\n",
    "def loadData(pathToFile):\n",
    "    f = open(pathToFile)\n",
    "    lines = f.readlines()[1:]\n",
    "    captionMap = {}\n",
    "    for line in lines:\n",
    "        dataLine = line.strip().split('|')\n",
    "        if len(dataLine) == 3:\n",
    "            imageName = dataLine[0].strip()\n",
    "            imageName = os.path.join(IMAGES_PATH, imageName)\n",
    "            imageCaption = dataLine[2].strip()\n",
    "            \n",
    "            if imageName.endswith(\".jpg\"):\n",
    "                caption = \"<start>\" + imageCaption + \"<end>\"\n",
    "                \n",
    "                if imageName in captionMap:\n",
    "                    captionMap[imageName].append(caption)\n",
    "                else:\n",
    "                    captionMap[imageName] = [caption]\n",
    "    return captionMap\n",
    "        \n",
    "def trainTestSplit(captionMap, trainPerc):\n",
    "    if trainPerc < 1 or trainPerc > 99:\n",
    "        raise Exception(\"Define an appropriate train split percentage\")\n",
    "    \n",
    "    imgList = list(captionMap.keys())\n",
    "    np.random.shuffle(imgList)\n",
    "    \n",
    "    trainingSetSize = int(len(imgList) * (trainPerc / 100))\n",
    "    trainingSet = {\n",
    "        imageName: captionMap[imageName] for imageName in imgList[:trainingSetSize] \n",
    "    }\n",
    "    testSet = {\n",
    "        imageName: captionMap[imageName] for imageName in imgList[trainingSetSize:]\n",
    "    }\n",
    "    \n",
    "    return trainingSet, testSet\n",
    "        "
   ]
  },
  {
   "cell_type": "code",
   "execution_count": 3,
   "metadata": {},
   "outputs": [
    {
     "name": "stdout",
     "output_type": "stream",
     "text": [
      "Training samples: 22248\n",
      "Test samples: 9535\n"
     ]
    }
   ],
   "source": [
    "captionMap = loadData(\"flickr30k_images/results.csv\")\n",
    "trainingSet, testSet = trainTestSplit(captionMap, 70)\n",
    "\n",
    "print(\"Training samples:\", len(trainingSet))\n",
    "print(\"Test samples:\", len(testSet))"
   ]
  }
 ],
 "metadata": {
  "interpreter": {
   "hash": "e7370f93d1d0cde622a1f8e1c04877d8463912d04d973331ad4851f04de6915a"
  },
  "kernelspec": {
   "display_name": "Python 3.8.10 64-bit",
   "language": "python",
   "name": "python3"
  },
  "language_info": {
   "codemirror_mode": {
    "name": "ipython",
    "version": 3
   },
   "file_extension": ".py",
   "mimetype": "text/x-python",
   "name": "python",
   "nbconvert_exporter": "python",
   "pygments_lexer": "ipython3",
   "version": "3.8.10"
  },
  "orig_nbformat": 4
 },
 "nbformat": 4,
 "nbformat_minor": 2
}
